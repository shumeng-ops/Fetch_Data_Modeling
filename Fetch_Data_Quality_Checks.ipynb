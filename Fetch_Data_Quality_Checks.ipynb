{
 "cells": [
  {
   "cell_type": "markdown",
   "id": "c8adaa58",
   "metadata": {},
   "source": [
    "### Step 1: Import Libraries and Set up Snowflake Connections"
   ]
  },
  {
   "cell_type": "code",
   "execution_count": 72,
   "id": "f281a1aa",
   "metadata": {},
   "outputs": [],
   "source": [
    "import snowflake.connector\n",
    "import pandas as pd\n",
    "## Store the credentials in a separate file called config.py and include that file in the .gitignore.\n",
    "## Make sure the credentials are not exposed online when publishing to GitHub.\n",
    "import config  "
   ]
  },
  {
   "cell_type": "code",
   "execution_count": 3,
   "id": "eea64dd9",
   "metadata": {},
   "outputs": [],
   "source": [
    "# Connect to Snowflake\n",
    "conn = snowflake.connector.connect(\n",
    "    user=config.SNOWFLAKE_USER,\n",
    "    password=config.SNOWFLAKE_PASSWORD,\n",
    "    account=config.SNOWFLAKE_ACCOUNT,\n",
    "    warehouse=config.SNOWFLAKE_WAREHOUSE,\n",
    "    database=config.SNOWFLAKE_DATABASE,\n",
    "    schema=config.SNOWFLAKE_SCHEMA,\n",
    "    role=config.SNOWFLAKE_ROLE\n",
    ")\n",
    "\n",
    "# Create a cursor to execute SQL commands\n",
    "cursor = conn.cursor()"
   ]
  },
  {
   "cell_type": "markdown",
   "id": "0bbf11ca",
   "metadata": {},
   "source": [
    "### Step 2: Import data from Snowflake"
   ]
  },
  {
   "cell_type": "code",
   "execution_count": 85,
   "id": "e24458f8",
   "metadata": {},
   "outputs": [
    {
     "name": "stderr",
     "output_type": "stream",
     "text": [
      "/var/folders/0q/_0939hcn7tb0ch1qcjyxjsxw0000gn/T/ipykernel_48943/2188856631.py:3: UserWarning: pandas only supports SQLAlchemy connectable (engine/connection) or database string URI or sqlite3 DBAPI2 connection. Other DBAPI2 objects are not tested. Please consider using SQLAlchemy.\n",
      "  df_users = pd.read_sql(users_query, conn)\n",
      "/var/folders/0q/_0939hcn7tb0ch1qcjyxjsxw0000gn/T/ipykernel_48943/2188856631.py:6: UserWarning: pandas only supports SQLAlchemy connectable (engine/connection) or database string URI or sqlite3 DBAPI2 connection. Other DBAPI2 objects are not tested. Please consider using SQLAlchemy.\n",
      "  df_receipts = pd.read_sql(receipts_query, conn)\n",
      "/var/folders/0q/_0939hcn7tb0ch1qcjyxjsxw0000gn/T/ipykernel_48943/2188856631.py:9: UserWarning: pandas only supports SQLAlchemy connectable (engine/connection) or database string URI or sqlite3 DBAPI2 connection. Other DBAPI2 objects are not tested. Please consider using SQLAlchemy.\n",
      "  df_brands = pd.read_sql(brands_query, conn)\n",
      "/var/folders/0q/_0939hcn7tb0ch1qcjyxjsxw0000gn/T/ipykernel_48943/2188856631.py:12: UserWarning: pandas only supports SQLAlchemy connectable (engine/connection) or database string URI or sqlite3 DBAPI2 connection. Other DBAPI2 objects are not tested. Please consider using SQLAlchemy.\n",
      "  df_receitps_items = pd.read_sql(receipts_items_query, conn)\n"
     ]
    }
   ],
   "source": [
    "# Query the data and load it into a DataFrame\n",
    "users_query = \"SELECT * FROM stg_users\"\n",
    "df_users = pd.read_sql(users_query, conn)\n",
    "\n",
    "receipts_query = \"SELECT * FROM stg_receipts\"\n",
    "df_receipts = pd.read_sql(receipts_query, conn)\n",
    "\n",
    "brands_query = \"SELECT * FROM stg_brands\"\n",
    "df_brands = pd.read_sql(brands_query, conn)\n",
    "\n",
    "receipts_items_query = \"SELECT * FROM stg_receipts_items\"\n",
    "df_receitps_items = pd.read_sql(receipts_items_query, conn)\n"
   ]
  },
  {
   "cell_type": "markdown",
   "id": "bef2e8a3",
   "metadata": {},
   "source": [
    "### Step 3: Create reusable quality check functions"
   ]
  },
  {
   "cell_type": "code",
   "execution_count": 102,
   "id": "f6ae21be",
   "metadata": {},
   "outputs": [],
   "source": [
    "# Define the function to check unique values\n",
    "def check_unique(df, column_list):\n",
    "    result_df = pd.DataFrame(columns=['Column','Total Counts','Unique Counts','Unique%'])\n",
    "    total_records = len(df)\n",
    "    for col in column_list:\n",
    "        unique_records = df[col].nunique()\n",
    "        per = round(unique_records / total_records * 100,2)\n",
    "        result_df.loc[len(result_df)]=[col,total_records,unique_records, per]\n",
    "    return result_df"
   ]
  },
  {
   "cell_type": "code",
   "execution_count": 103,
   "id": "8bff251b",
   "metadata": {},
   "outputs": [],
   "source": [
    "# Define the function to check null values\n",
    "def check_null(df, column_list):\n",
    "    result_df = pd.DataFrame(columns=['Column','Total Counts','Null Counts','Null%'])\n",
    "    total_records = len(df)\n",
    "    for col in column_list:\n",
    "        null_count = df[col].isnull().sum()\n",
    "        per = round(null_count / total_records * 100,2)\n",
    "        result_df.loc[len(result_df)]=[col,total_records,null_count, per]\n",
    "#         report = f\"Out of {total_records} {column_name} records, {per}% are unique.\"\n",
    "    return result_df"
   ]
  },
  {
   "cell_type": "markdown",
   "id": "4b933b99",
   "metadata": {},
   "source": [
    "### Step 4: Data Quality Check for Users Table"
   ]
  },
  {
   "cell_type": "code",
   "execution_count": 79,
   "id": "50e6a4e7",
   "metadata": {},
   "outputs": [
    {
     "data": {
      "text/html": [
       "<div>\n",
       "<style scoped>\n",
       "    .dataframe tbody tr th:only-of-type {\n",
       "        vertical-align: middle;\n",
       "    }\n",
       "\n",
       "    .dataframe tbody tr th {\n",
       "        vertical-align: top;\n",
       "    }\n",
       "\n",
       "    .dataframe thead th {\n",
       "        text-align: right;\n",
       "    }\n",
       "</style>\n",
       "<table border=\"1\" class=\"dataframe\">\n",
       "  <thead>\n",
       "    <tr style=\"text-align: right;\">\n",
       "      <th></th>\n",
       "      <th>Column</th>\n",
       "      <th>Total Counts</th>\n",
       "      <th>Unique Counts</th>\n",
       "      <th>Unique%</th>\n",
       "    </tr>\n",
       "  </thead>\n",
       "  <tbody>\n",
       "    <tr>\n",
       "      <th>0</th>\n",
       "      <td>ID</td>\n",
       "      <td>495</td>\n",
       "      <td>212</td>\n",
       "      <td>42.83</td>\n",
       "    </tr>\n",
       "  </tbody>\n",
       "</table>\n",
       "</div>"
      ],
      "text/plain": [
       "  Column  Total Counts  Unique Counts  Unique%\n",
       "0     ID           495            212    42.83"
      ]
     },
     "execution_count": 79,
     "metadata": {},
     "output_type": "execute_result"
    }
   ],
   "source": [
    "## Check the uniqueness of ID column\n",
    "check_unique(df_users,['ID'])"
   ]
  },
  {
   "cell_type": "code",
   "execution_count": 80,
   "id": "af74b36b",
   "metadata": {},
   "outputs": [
    {
     "data": {
      "text/html": [
       "<div>\n",
       "<style scoped>\n",
       "    .dataframe tbody tr th:only-of-type {\n",
       "        vertical-align: middle;\n",
       "    }\n",
       "\n",
       "    .dataframe tbody tr th {\n",
       "        vertical-align: top;\n",
       "    }\n",
       "\n",
       "    .dataframe thead th {\n",
       "        text-align: right;\n",
       "    }\n",
       "</style>\n",
       "<table border=\"1\" class=\"dataframe\">\n",
       "  <thead>\n",
       "    <tr style=\"text-align: right;\">\n",
       "      <th></th>\n",
       "      <th>Column</th>\n",
       "      <th>Total Counts</th>\n",
       "      <th>Null Counts</th>\n",
       "      <th>Null%</th>\n",
       "    </tr>\n",
       "  </thead>\n",
       "  <tbody>\n",
       "    <tr>\n",
       "      <th>0</th>\n",
       "      <td>ID</td>\n",
       "      <td>495</td>\n",
       "      <td>0</td>\n",
       "      <td>0.00</td>\n",
       "    </tr>\n",
       "    <tr>\n",
       "      <th>1</th>\n",
       "      <td>ACTIVE</td>\n",
       "      <td>495</td>\n",
       "      <td>0</td>\n",
       "      <td>0.00</td>\n",
       "    </tr>\n",
       "    <tr>\n",
       "      <th>2</th>\n",
       "      <td>CREATEDDATE</td>\n",
       "      <td>495</td>\n",
       "      <td>0</td>\n",
       "      <td>0.00</td>\n",
       "    </tr>\n",
       "    <tr>\n",
       "      <th>3</th>\n",
       "      <td>LASTLOGIN</td>\n",
       "      <td>495</td>\n",
       "      <td>62</td>\n",
       "      <td>12.53</td>\n",
       "    </tr>\n",
       "    <tr>\n",
       "      <th>4</th>\n",
       "      <td>ROLE</td>\n",
       "      <td>495</td>\n",
       "      <td>0</td>\n",
       "      <td>0.00</td>\n",
       "    </tr>\n",
       "    <tr>\n",
       "      <th>5</th>\n",
       "      <td>SIGNUPSOURCE</td>\n",
       "      <td>495</td>\n",
       "      <td>48</td>\n",
       "      <td>9.70</td>\n",
       "    </tr>\n",
       "    <tr>\n",
       "      <th>6</th>\n",
       "      <td>STATE</td>\n",
       "      <td>495</td>\n",
       "      <td>56</td>\n",
       "      <td>11.31</td>\n",
       "    </tr>\n",
       "  </tbody>\n",
       "</table>\n",
       "</div>"
      ],
      "text/plain": [
       "         Column  Total Counts  Null Counts  Null%\n",
       "0            ID           495            0   0.00\n",
       "1        ACTIVE           495            0   0.00\n",
       "2   CREATEDDATE           495            0   0.00\n",
       "3     LASTLOGIN           495           62  12.53\n",
       "4          ROLE           495            0   0.00\n",
       "5  SIGNUPSOURCE           495           48   9.70\n",
       "6         STATE           495           56  11.31"
      ]
     },
     "execution_count": 80,
     "metadata": {},
     "output_type": "execute_result"
    }
   ],
   "source": [
    "## Check the null records of various column\n",
    "check_null(df_users, ['ID','ACTIVE','CREATEDDATE','LASTLOGIN','ROLE','SIGNUPSOURCE','STATE'])"
   ]
  },
  {
   "cell_type": "markdown",
   "id": "7c1c43e8",
   "metadata": {},
   "source": [
    "#### Data Issues Summary for Users Table \n",
    "\n",
    "- **Duplicated Users ID**: \n",
    "The User ID field is intended to serve as the primary key for the table and should be unique for each record. However, only 43% of the records have unique IDs, indicating that more than half of the records are duplicates. Further investigation is required to determine whether these duplicate IDs are errors or if they need to be de-duplicated.\n",
    "- **Incomplete Users Attributes**: Some columns, such as last login date, signup source, and state, contain null values. The absence of these values may not necessarily indicate a data issue, as it could be related to business logic. For example, the “state” field may not be required during user sign-up. It is important to further investigate the reasons behind the missing values in these attributes."
   ]
  },
  {
   "cell_type": "markdown",
   "id": "d99747db",
   "metadata": {},
   "source": [
    "### Step 5: Data Quality Check for Brands Table"
   ]
  },
  {
   "cell_type": "code",
   "execution_count": 81,
   "id": "058da049",
   "metadata": {},
   "outputs": [
    {
     "data": {
      "text/html": [
       "<div>\n",
       "<style scoped>\n",
       "    .dataframe tbody tr th:only-of-type {\n",
       "        vertical-align: middle;\n",
       "    }\n",
       "\n",
       "    .dataframe tbody tr th {\n",
       "        vertical-align: top;\n",
       "    }\n",
       "\n",
       "    .dataframe thead th {\n",
       "        text-align: right;\n",
       "    }\n",
       "</style>\n",
       "<table border=\"1\" class=\"dataframe\">\n",
       "  <thead>\n",
       "    <tr style=\"text-align: right;\">\n",
       "      <th></th>\n",
       "      <th>Column</th>\n",
       "      <th>Total Counts</th>\n",
       "      <th>Null Counts</th>\n",
       "      <th>Null%</th>\n",
       "    </tr>\n",
       "  </thead>\n",
       "  <tbody>\n",
       "    <tr>\n",
       "      <th>0</th>\n",
       "      <td>ID</td>\n",
       "      <td>1167</td>\n",
       "      <td>0</td>\n",
       "      <td>0.00</td>\n",
       "    </tr>\n",
       "    <tr>\n",
       "      <th>1</th>\n",
       "      <td>BARCODE</td>\n",
       "      <td>1167</td>\n",
       "      <td>0</td>\n",
       "      <td>0.00</td>\n",
       "    </tr>\n",
       "    <tr>\n",
       "      <th>2</th>\n",
       "      <td>BRANDCODE</td>\n",
       "      <td>1167</td>\n",
       "      <td>234</td>\n",
       "      <td>20.05</td>\n",
       "    </tr>\n",
       "    <tr>\n",
       "      <th>3</th>\n",
       "      <td>CATEGORY</td>\n",
       "      <td>1167</td>\n",
       "      <td>155</td>\n",
       "      <td>13.28</td>\n",
       "    </tr>\n",
       "    <tr>\n",
       "      <th>4</th>\n",
       "      <td>CATEGORYCODE</td>\n",
       "      <td>1167</td>\n",
       "      <td>650</td>\n",
       "      <td>55.70</td>\n",
       "    </tr>\n",
       "    <tr>\n",
       "      <th>5</th>\n",
       "      <td>CPG_ID</td>\n",
       "      <td>1167</td>\n",
       "      <td>0</td>\n",
       "      <td>0.00</td>\n",
       "    </tr>\n",
       "    <tr>\n",
       "      <th>6</th>\n",
       "      <td>CPG_ID</td>\n",
       "      <td>1167</td>\n",
       "      <td>0</td>\n",
       "      <td>0.00</td>\n",
       "    </tr>\n",
       "    <tr>\n",
       "      <th>7</th>\n",
       "      <td>NAME</td>\n",
       "      <td>1167</td>\n",
       "      <td>0</td>\n",
       "      <td>0.00</td>\n",
       "    </tr>\n",
       "    <tr>\n",
       "      <th>8</th>\n",
       "      <td>TOPBRAND</td>\n",
       "      <td>1167</td>\n",
       "      <td>612</td>\n",
       "      <td>52.44</td>\n",
       "    </tr>\n",
       "  </tbody>\n",
       "</table>\n",
       "</div>"
      ],
      "text/plain": [
       "         Column  Total Counts  Null Counts  Null%\n",
       "0            ID          1167            0   0.00\n",
       "1       BARCODE          1167            0   0.00\n",
       "2     BRANDCODE          1167          234  20.05\n",
       "3      CATEGORY          1167          155  13.28\n",
       "4  CATEGORYCODE          1167          650  55.70\n",
       "5        CPG_ID          1167            0   0.00\n",
       "6        CPG_ID          1167            0   0.00\n",
       "7          NAME          1167            0   0.00\n",
       "8      TOPBRAND          1167          612  52.44"
      ]
     },
     "execution_count": 81,
     "metadata": {},
     "output_type": "execute_result"
    }
   ],
   "source": [
    "## Check the uniqueness of various columns\n",
    "check_null(df_brands,['ID','BARCODE','BRANDCODE','CATEGORY','CATEGORYCODE','CPG_ID','CPG_ID','NAME','TOPBRAND'])"
   ]
  },
  {
   "cell_type": "code",
   "execution_count": 82,
   "id": "24563024",
   "metadata": {},
   "outputs": [
    {
     "data": {
      "text/html": [
       "<div>\n",
       "<style scoped>\n",
       "    .dataframe tbody tr th:only-of-type {\n",
       "        vertical-align: middle;\n",
       "    }\n",
       "\n",
       "    .dataframe tbody tr th {\n",
       "        vertical-align: top;\n",
       "    }\n",
       "\n",
       "    .dataframe thead th {\n",
       "        text-align: right;\n",
       "    }\n",
       "</style>\n",
       "<table border=\"1\" class=\"dataframe\">\n",
       "  <thead>\n",
       "    <tr style=\"text-align: right;\">\n",
       "      <th></th>\n",
       "      <th>Column</th>\n",
       "      <th>Total Counts</th>\n",
       "      <th>Unique Counts</th>\n",
       "      <th>Unique%</th>\n",
       "    </tr>\n",
       "  </thead>\n",
       "  <tbody>\n",
       "    <tr>\n",
       "      <th>0</th>\n",
       "      <td>ID</td>\n",
       "      <td>1167</td>\n",
       "      <td>1167</td>\n",
       "      <td>100.00</td>\n",
       "    </tr>\n",
       "    <tr>\n",
       "      <th>1</th>\n",
       "      <td>BARCODE</td>\n",
       "      <td>1167</td>\n",
       "      <td>1160</td>\n",
       "      <td>99.40</td>\n",
       "    </tr>\n",
       "    <tr>\n",
       "      <th>2</th>\n",
       "      <td>BRANDCODE</td>\n",
       "      <td>1167</td>\n",
       "      <td>897</td>\n",
       "      <td>76.86</td>\n",
       "    </tr>\n",
       "    <tr>\n",
       "      <th>3</th>\n",
       "      <td>NAME</td>\n",
       "      <td>1167</td>\n",
       "      <td>1156</td>\n",
       "      <td>99.06</td>\n",
       "    </tr>\n",
       "  </tbody>\n",
       "</table>\n",
       "</div>"
      ],
      "text/plain": [
       "      Column  Total Counts  Unique Counts  Unique%\n",
       "0         ID          1167           1167   100.00\n",
       "1    BARCODE          1167           1160    99.40\n",
       "2  BRANDCODE          1167            897    76.86\n",
       "3       NAME          1167           1156    99.06"
      ]
     },
     "execution_count": 82,
     "metadata": {},
     "output_type": "execute_result"
    }
   ],
   "source": [
    "## Check the null records of various column\n",
    "check_unique(df_brands,['ID','BARCODE','BRANDCODE','NAME'])"
   ]
  },
  {
   "cell_type": "code",
   "execution_count": 109,
   "id": "d00e2f65",
   "metadata": {},
   "outputs": [
    {
     "name": "stdout",
     "output_type": "stream",
     "text": [
      "186\n"
     ]
    }
   ],
   "source": [
    "## Brandcodes in receipts_items Table Not Present in brands Table\n",
    "missing_brandcodes = df_receitps_items[~df_receitps_items['BRANDCODE'].isin(df_brands['BRANDCODE'])]\n",
    "missing_brandcodes['BRANDCODE'].nunique()"
   ]
  },
  {
   "cell_type": "markdown",
   "id": "adbc5166",
   "metadata": {},
   "source": [
    "#### Data Issues Summary for Brands Table \n",
    "\n",
    "- **Lack of Uniqueness in BARCODE and BRANDCODE**: Each row in the brands table is meant to represent a unique brand, and therefore, both the barcode and brandcode should be unique. However, neither the barcode nor brandcode are unique, as multiple brand IDs share the same barcode and brandcode. This creates challenges when trying to join the brands table with the receipts table.\n",
    "- **Null values on many important columns**: Many columns, such as brandcode, category, categorycode, and topbrand, contain a significant number of null values.\n",
    "- **Missing Brandcode in the brands tables**: About 186 brands appear on scanned receipts but do not exist in the brands table. This discrepancy highlights a significant issue in our dimension table, potentially impacting data integrity and reporting accuracy."
   ]
  },
  {
   "cell_type": "markdown",
   "id": "a414972f",
   "metadata": {},
   "source": [
    "### Step 5: Data Quality Check for Receipts Table"
   ]
  },
  {
   "cell_type": "code",
   "execution_count": 83,
   "id": "415dcd7a",
   "metadata": {},
   "outputs": [
    {
     "data": {
      "text/html": [
       "<div>\n",
       "<style scoped>\n",
       "    .dataframe tbody tr th:only-of-type {\n",
       "        vertical-align: middle;\n",
       "    }\n",
       "\n",
       "    .dataframe tbody tr th {\n",
       "        vertical-align: top;\n",
       "    }\n",
       "\n",
       "    .dataframe thead th {\n",
       "        text-align: right;\n",
       "    }\n",
       "</style>\n",
       "<table border=\"1\" class=\"dataframe\">\n",
       "  <thead>\n",
       "    <tr style=\"text-align: right;\">\n",
       "      <th></th>\n",
       "      <th>Column</th>\n",
       "      <th>Total Counts</th>\n",
       "      <th>Unique Counts</th>\n",
       "      <th>Unique%</th>\n",
       "    </tr>\n",
       "  </thead>\n",
       "  <tbody>\n",
       "    <tr>\n",
       "      <th>0</th>\n",
       "      <td>ID</td>\n",
       "      <td>1119</td>\n",
       "      <td>1119</td>\n",
       "      <td>100.0</td>\n",
       "    </tr>\n",
       "  </tbody>\n",
       "</table>\n",
       "</div>"
      ],
      "text/plain": [
       "  Column  Total Counts  Unique Counts  Unique%\n",
       "0     ID          1119           1119    100.0"
      ]
     },
     "execution_count": 83,
     "metadata": {},
     "output_type": "execute_result"
    }
   ],
   "source": [
    "check_unique(df_receipts,['ID'])"
   ]
  },
  {
   "cell_type": "code",
   "execution_count": 110,
   "id": "48a9b5db",
   "metadata": {
    "scrolled": true
   },
   "outputs": [
    {
     "data": {
      "text/html": [
       "<div>\n",
       "<style scoped>\n",
       "    .dataframe tbody tr th:only-of-type {\n",
       "        vertical-align: middle;\n",
       "    }\n",
       "\n",
       "    .dataframe tbody tr th {\n",
       "        vertical-align: top;\n",
       "    }\n",
       "\n",
       "    .dataframe thead th {\n",
       "        text-align: right;\n",
       "    }\n",
       "</style>\n",
       "<table border=\"1\" class=\"dataframe\">\n",
       "  <thead>\n",
       "    <tr style=\"text-align: right;\">\n",
       "      <th></th>\n",
       "      <th>Column</th>\n",
       "      <th>Total Counts</th>\n",
       "      <th>Null Counts</th>\n",
       "      <th>Null%</th>\n",
       "    </tr>\n",
       "  </thead>\n",
       "  <tbody>\n",
       "    <tr>\n",
       "      <th>0</th>\n",
       "      <td>ID</td>\n",
       "      <td>1119</td>\n",
       "      <td>0</td>\n",
       "      <td>0.00</td>\n",
       "    </tr>\n",
       "    <tr>\n",
       "      <th>1</th>\n",
       "      <td>BONUSPOINTSEARNED</td>\n",
       "      <td>1119</td>\n",
       "      <td>575</td>\n",
       "      <td>51.39</td>\n",
       "    </tr>\n",
       "    <tr>\n",
       "      <th>2</th>\n",
       "      <td>FINISHEDDATE</td>\n",
       "      <td>1119</td>\n",
       "      <td>551</td>\n",
       "      <td>49.24</td>\n",
       "    </tr>\n",
       "    <tr>\n",
       "      <th>3</th>\n",
       "      <td>POINTSAWARDEDDATE</td>\n",
       "      <td>1119</td>\n",
       "      <td>582</td>\n",
       "      <td>52.01</td>\n",
       "    </tr>\n",
       "    <tr>\n",
       "      <th>4</th>\n",
       "      <td>POINTSEARNED</td>\n",
       "      <td>1119</td>\n",
       "      <td>510</td>\n",
       "      <td>45.58</td>\n",
       "    </tr>\n",
       "    <tr>\n",
       "      <th>5</th>\n",
       "      <td>PURCHASEDATE</td>\n",
       "      <td>1119</td>\n",
       "      <td>448</td>\n",
       "      <td>40.04</td>\n",
       "    </tr>\n",
       "    <tr>\n",
       "      <th>6</th>\n",
       "      <td>TOTALSPENT</td>\n",
       "      <td>1119</td>\n",
       "      <td>435</td>\n",
       "      <td>38.87</td>\n",
       "    </tr>\n",
       "  </tbody>\n",
       "</table>\n",
       "</div>"
      ],
      "text/plain": [
       "              Column  Total Counts  Null Counts  Null%\n",
       "0                 ID          1119            0   0.00\n",
       "1  BONUSPOINTSEARNED          1119          575  51.39\n",
       "2       FINISHEDDATE          1119          551  49.24\n",
       "3  POINTSAWARDEDDATE          1119          582  52.01\n",
       "4       POINTSEARNED          1119          510  45.58\n",
       "5       PURCHASEDATE          1119          448  40.04\n",
       "6         TOTALSPENT          1119          435  38.87"
      ]
     },
     "execution_count": 110,
     "metadata": {},
     "output_type": "execute_result"
    }
   ],
   "source": [
    "check_null(df_receipts,['ID','BONUSPOINTSEARNED','FINISHEDDATE',\\\n",
    "                        'POINTSAWARDEDDATE','POINTSEARNED','PURCHASEDATE','TOTALSPENT'])"
   ]
  },
  {
   "cell_type": "code",
   "execution_count": 96,
   "id": "05e2f7a2",
   "metadata": {
    "scrolled": true
   },
   "outputs": [
    {
     "data": {
      "text/html": [
       "<div>\n",
       "<style scoped>\n",
       "    .dataframe tbody tr th:only-of-type {\n",
       "        vertical-align: middle;\n",
       "    }\n",
       "\n",
       "    .dataframe tbody tr th {\n",
       "        vertical-align: top;\n",
       "    }\n",
       "\n",
       "    .dataframe thead th {\n",
       "        text-align: right;\n",
       "    }\n",
       "</style>\n",
       "<table border=\"1\" class=\"dataframe\">\n",
       "  <thead>\n",
       "    <tr style=\"text-align: right;\">\n",
       "      <th></th>\n",
       "      <th>POINTSAWARDEDDATE</th>\n",
       "      <th>POINTSEARNED</th>\n",
       "    </tr>\n",
       "  </thead>\n",
       "  <tbody>\n",
       "    <tr>\n",
       "      <th>2</th>\n",
       "      <td>NaT</td>\n",
       "      <td>5.0</td>\n",
       "    </tr>\n",
       "    <tr>\n",
       "      <th>12</th>\n",
       "      <td>NaT</td>\n",
       "      <td>8850.0</td>\n",
       "    </tr>\n",
       "    <tr>\n",
       "      <th>62</th>\n",
       "      <td>NaT</td>\n",
       "      <td>750.0</td>\n",
       "    </tr>\n",
       "    <tr>\n",
       "      <th>123</th>\n",
       "      <td>NaT</td>\n",
       "      <td>0.0</td>\n",
       "    </tr>\n",
       "    <tr>\n",
       "      <th>129</th>\n",
       "      <td>NaT</td>\n",
       "      <td>25.0</td>\n",
       "    </tr>\n",
       "  </tbody>\n",
       "</table>\n",
       "</div>"
      ],
      "text/plain": [
       "    POINTSAWARDEDDATE  POINTSEARNED\n",
       "2                 NaT           5.0\n",
       "12                NaT        8850.0\n",
       "62                NaT         750.0\n",
       "123               NaT           0.0\n",
       "129               NaT          25.0"
      ]
     },
     "execution_count": 96,
     "metadata": {},
     "output_type": "execute_result"
    }
   ],
   "source": [
    "##Returns records where points awarded date is populated but points are null\n",
    "##or points awarded date is null but points are not null.\n",
    "filtered_df1 = df_receipts[((df_receipts['POINTSAWARDEDDATE'].notnull()) & (df_receipts['POINTSEARNED'].isnull())) |\n",
    "                 ((df_receipts['POINTSAWARDEDDATE'].isnull()) & (df_receipts['POINTSEARNED'].notnull()))]\n",
    "\n",
    "filtered_df1[['POINTSAWARDEDDATE','POINTSEARNED']][:5]"
   ]
  },
  {
   "cell_type": "code",
   "execution_count": 97,
   "id": "4663cac5",
   "metadata": {},
   "outputs": [
    {
     "data": {
      "text/html": [
       "<div>\n",
       "<style scoped>\n",
       "    .dataframe tbody tr th:only-of-type {\n",
       "        vertical-align: middle;\n",
       "    }\n",
       "\n",
       "    .dataframe tbody tr th {\n",
       "        vertical-align: top;\n",
       "    }\n",
       "\n",
       "    .dataframe thead th {\n",
       "        text-align: right;\n",
       "    }\n",
       "</style>\n",
       "<table border=\"1\" class=\"dataframe\">\n",
       "  <thead>\n",
       "    <tr style=\"text-align: right;\">\n",
       "      <th></th>\n",
       "      <th>PURCHASEDITEMCOUNT</th>\n",
       "      <th>REWARDSRECEIPTITEMLIST</th>\n",
       "    </tr>\n",
       "  </thead>\n",
       "  <tbody>\n",
       "    <tr>\n",
       "      <th>175</th>\n",
       "      <td>0.0</td>\n",
       "      <td>None</td>\n",
       "    </tr>\n",
       "    <tr>\n",
       "      <th>210</th>\n",
       "      <td>NaN</td>\n",
       "      <td>[\\n  {\\n    \"description\": \"flipbelt level ter...</td>\n",
       "    </tr>\n",
       "    <tr>\n",
       "      <th>211</th>\n",
       "      <td>NaN</td>\n",
       "      <td>[\\n  {\\n    \"description\": \"flipbelt level ter...</td>\n",
       "    </tr>\n",
       "    <tr>\n",
       "      <th>213</th>\n",
       "      <td>NaN</td>\n",
       "      <td>[\\n  {\\n    \"description\": \"flipbelt level ter...</td>\n",
       "    </tr>\n",
       "    <tr>\n",
       "      <th>214</th>\n",
       "      <td>NaN</td>\n",
       "      <td>[\\n  {\\n    \"description\": \"flipbelt level ter...</td>\n",
       "    </tr>\n",
       "  </tbody>\n",
       "</table>\n",
       "</div>"
      ],
      "text/plain": [
       "     PURCHASEDITEMCOUNT                             REWARDSRECEIPTITEMLIST\n",
       "175                 0.0                                               None\n",
       "210                 NaN  [\\n  {\\n    \"description\": \"flipbelt level ter...\n",
       "211                 NaN  [\\n  {\\n    \"description\": \"flipbelt level ter...\n",
       "213                 NaN  [\\n  {\\n    \"description\": \"flipbelt level ter...\n",
       "214                 NaN  [\\n  {\\n    \"description\": \"flipbelt level ter..."
      ]
     },
     "execution_count": 97,
     "metadata": {},
     "output_type": "execute_result"
    }
   ],
   "source": [
    "##Returns records where PURCHASEDITEMCOUNT is populated but REWARDSRECEIPTITEMLIST are null\n",
    "##or PURCHASEDITEMCOUNT is null but REWARDSRECEIPTITEMLIST are not null.\n",
    "\n",
    "filtered_df2 = df_receipts[((df_receipts['PURCHASEDITEMCOUNT'].notnull()) & \\\n",
    "                            (df_receipts['REWARDSRECEIPTITEMLIST'].isnull())) |\n",
    "                 ((df_receipts['PURCHASEDITEMCOUNT'].isnull()) & \\\n",
    "                  (df_receipts['REWARDSRECEIPTITEMLIST'].notnull()))]\n",
    "\n",
    "filtered_df2[['PURCHASEDITEMCOUNT','REWARDSRECEIPTITEMLIST']][:5]"
   ]
  },
  {
   "cell_type": "code",
   "execution_count": 106,
   "id": "19d9f39d",
   "metadata": {},
   "outputs": [
    {
     "data": {
      "text/html": [
       "<div>\n",
       "<style scoped>\n",
       "    .dataframe tbody tr th:only-of-type {\n",
       "        vertical-align: middle;\n",
       "    }\n",
       "\n",
       "    .dataframe tbody tr th {\n",
       "        vertical-align: top;\n",
       "    }\n",
       "\n",
       "    .dataframe thead th {\n",
       "        text-align: right;\n",
       "    }\n",
       "</style>\n",
       "<table border=\"1\" class=\"dataframe\">\n",
       "  <thead>\n",
       "    <tr style=\"text-align: right;\">\n",
       "      <th></th>\n",
       "      <th>REWARDSRECEIPTSTATUS</th>\n",
       "      <th>POINTSAWARDEDDATE</th>\n",
       "    </tr>\n",
       "  </thead>\n",
       "  <tbody>\n",
       "    <tr>\n",
       "      <th>13</th>\n",
       "      <td>REJECTED</td>\n",
       "      <td>2020-10-30 20:18:00</td>\n",
       "    </tr>\n",
       "    <tr>\n",
       "      <th>517</th>\n",
       "      <td>REJECTED</td>\n",
       "      <td>2020-11-09 05:36:52</td>\n",
       "    </tr>\n",
       "    <tr>\n",
       "      <th>682</th>\n",
       "      <td>REJECTED</td>\n",
       "      <td>2020-11-15 23:44:17</td>\n",
       "    </tr>\n",
       "    <tr>\n",
       "      <th>698</th>\n",
       "      <td>REJECTED</td>\n",
       "      <td>2020-11-16 20:00:24</td>\n",
       "    </tr>\n",
       "  </tbody>\n",
       "</table>\n",
       "</div>"
      ],
      "text/plain": [
       "    REWARDSRECEIPTSTATUS   POINTSAWARDEDDATE\n",
       "13              REJECTED 2020-10-30 20:18:00\n",
       "517             REJECTED 2020-11-09 05:36:52\n",
       "682             REJECTED 2020-11-15 23:44:17\n",
       "698             REJECTED 2020-11-16 20:00:24"
      ]
     },
     "execution_count": 106,
     "metadata": {},
     "output_type": "execute_result"
    }
   ],
   "source": [
    "##Returns records where REWARDSRECEIPTSTATUS is REJECTED but POINTSAWARDEDDATE is populated\n",
    "filtered_df3 = df_receipts[((df_receipts['REWARDSRECEIPTSTATUS']=='REJECTED') & \\\n",
    "                            (df_receipts['POINTSAWARDEDDATE'].notnull()))]\n",
    "\n",
    "filtered_df3[['REWARDSRECEIPTSTATUS','POINTSAWARDEDDATE']][:5]"
   ]
  },
  {
   "cell_type": "markdown",
   "id": "106e48ad",
   "metadata": {},
   "source": [
    "#### Data Issues Summary for Receipts Table \n",
    "- **Null values on PURCHASEDATE & TOTALSPEND**: The null check summary table shows many columns with high null counts. However, not all nulls indicate data issues. For instance, BONUSPOINTSEARNED might be null if no bonus points were awarded, and FINISHEDDATE or POINTSAWARDEDDATE could be null if the receipt isn’t finalized or points haven’t been awarded yet. However, nulls in PURCHASEDATE and TOTALSPENT may signal data issues, as every receipt should have a purchase date, and the total amount should be zero or greater—not null.<br><br>\n",
    "\n",
    "- **Data Inconsistency within the table**:\n",
    "    - **Points_Awarded_Date & Points_Earned:**<br> Many records show points awarded date but have points earned as null, or vice versa. Ideally, both columns should either be filled together or both be null, as they both reflect the fact that points have been awarded.. This inconsistency suggests a data issue.\n",
    "    - **Purchased_Item_Counts & Rewards_Receipts_Item_List:**<br> Many records have a null value for the purchased item count but a non-null item list, or vice versa, which is contradictory. The purchased item count should align with the receipt item list.\n",
    "    - **Points_Rewarded_Date populated for rejected Receipts:**<br> Many records have a points rewards date filled in even though the status is rejected, suggesting that points were rewarded for rejected receipts, which is contradictory."
   ]
  }
 ],
 "metadata": {
  "kernelspec": {
   "display_name": "Python (fetch-env)",
   "language": "python",
   "name": "fetch-env"
  },
  "language_info": {
   "codemirror_mode": {
    "name": "ipython",
    "version": 3
   },
   "file_extension": ".py",
   "mimetype": "text/x-python",
   "name": "python",
   "nbconvert_exporter": "python",
   "pygments_lexer": "ipython3",
   "version": "3.10.9"
  }
 },
 "nbformat": 4,
 "nbformat_minor": 5
}
